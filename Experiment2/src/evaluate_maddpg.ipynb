{
 "cells": [
  {
   "cell_type": "code",
   "execution_count": null,
   "metadata": {
    "pycharm": {
     "name": "#%%\n"
    }
   },
   "outputs": [],
   "source": [
    "import numpy as np\n",
    "import torch\n",
    "import matplotlib.pyplot as plt\n",
    "from maddpg import MADDPGAgent, Actor\n",
    "from sample_env import SampleEnv\n"
   ]
  },
  {
   "cell_type": "code",
   "execution_count": null,
   "metadata": {
    "pycharm": {
     "name": "#%%\n"
    }
   },
   "outputs": [],
   "source": [
    "agent = MADDPGAgent()\n",
    "models = torch.load('/root/workspace/MADDPG/models/20000.th')\n",
    "\n",
    "agent.actor[0].load_state_dict(models[0])\n",
    "agent.actor[1].load_state_dict(models[1])"
   ]
  },
  {
   "cell_type": "code",
   "execution_count": null,
   "metadata": {
    "pycharm": {
     "name": "#%%\n"
    }
   },
   "outputs": [],
   "source": [
    "location = []\n",
    "env = SampleEnv()\n",
    "state = env.reset()\n",
    "done = False\n",
    "total_reward = [0, 0]\n",
    "while not done:\n",
    "    location.append(np.copy(env.state))\n",
    "    actions = agent.choose_actions(state)\n",
    "    next_state, rewards, done, _ = env.step(actions)       \n",
    "    state = next_state\n",
    "    for i in range(2):\n",
    "        total_reward[i] += rewards[i]\n",
    "\n",
    "print(total_reward)"
   ]
  },
  {
   "cell_type": "code",
   "execution_count": null,
   "metadata": {
    "pycharm": {
     "name": "#%%\n"
    },
    "scrolled": true
   },
   "outputs": [],
   "source": [
    "l = np.array(location)\n",
    "# plt.xlim(-1, 2)\n",
    "# plt.ylim(-1, 1)\n",
    "plt.scatter(l[:, 0, 0], l[:, 0, 1], c='r')\n",
    "plt.scatter(l[:, 1, 0], l[:, 1, 1], c='g')\n"
   ]
  },
  {
   "cell_type": "code",
   "execution_count": null,
   "metadata": {
    "pycharm": {
     "name": "#%%\n"
    }
   },
   "outputs": [],
   "source": [
    "l"
   ]
  },
  {
   "cell_type": "code",
   "execution_count": null,
   "metadata": {
    "pycharm": {
     "name": "#%%\n"
    }
   },
   "outputs": [],
   "source": [
    "m1 = torch.load('./models/1000.th')\n",
    "m2 = torch.load('./models/3000.th')\n",
    "torch.abs(m1[0]['fc.0.weight'] - m2[0]['fc.0.weight']) < 1e-4"
   ]
  }
 ],
 "metadata": {
  "kernelspec": {
   "display_name": "Python 3 (ipykernel)",
   "language": "python",
   "name": "python3"
  },
  "language_info": {
   "codemirror_mode": {
    "name": "ipython",
    "version": 3
   },
   "file_extension": ".py",
   "mimetype": "text/x-python",
   "name": "python",
   "nbconvert_exporter": "python",
   "pygments_lexer": "ipython3",
   "version": "3.10.0"
  }
 },
 "nbformat": 4,
 "nbformat_minor": 4
}
